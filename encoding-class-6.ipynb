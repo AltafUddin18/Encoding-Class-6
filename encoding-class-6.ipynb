{
 "cells": [
  {
   "cell_type": "markdown",
   "id": "5c60d1cf",
   "metadata": {
    "papermill": {
     "duration": 0.014217,
     "end_time": "2023-05-11T09:27:40.558538",
     "exception": false,
     "start_time": "2023-05-11T09:27:40.544321",
     "status": "completed"
    },
    "tags": []
   },
   "source": [
    "# Class-6"
   ]
  },
  {
   "cell_type": "code",
   "execution_count": 1,
   "id": "56b1ac76",
   "metadata": {
    "execution": {
     "iopub.execute_input": "2023-05-11T09:27:40.588735Z",
     "iopub.status.busy": "2023-05-11T09:27:40.587965Z",
     "iopub.status.idle": "2023-05-11T09:27:40.599344Z",
     "shell.execute_reply": "2023-05-11T09:27:40.598469Z"
    },
    "papermill": {
     "duration": 0.028845,
     "end_time": "2023-05-11T09:27:40.601707",
     "exception": false,
     "start_time": "2023-05-11T09:27:40.572862",
     "status": "completed"
    },
    "tags": []
   },
   "outputs": [],
   "source": [
    "import pandas as pd\n",
    "import numpy as np\n",
    "import warnings\n",
    "warnings.filterwarnings(\"ignore\")"
   ]
  },
  {
   "cell_type": "code",
   "execution_count": 2,
   "id": "34f4d545",
   "metadata": {
    "execution": {
     "iopub.execute_input": "2023-05-11T09:27:40.632905Z",
     "iopub.status.busy": "2023-05-11T09:27:40.632155Z",
     "iopub.status.idle": "2023-05-11T09:27:40.656783Z",
     "shell.execute_reply": "2023-05-11T09:27:40.655562Z"
    },
    "papermill": {
     "duration": 0.043333,
     "end_time": "2023-05-11T09:27:40.659674",
     "exception": false,
     "start_time": "2023-05-11T09:27:40.616341",
     "status": "completed"
    },
    "tags": []
   },
   "outputs": [],
   "source": [
    "df = pd.read_csv(\"/kaggle/input/supershops/supershops.csv\")"
   ]
  },
  {
   "cell_type": "code",
   "execution_count": 3,
   "id": "0a8a9b05",
   "metadata": {
    "execution": {
     "iopub.execute_input": "2023-05-11T09:27:40.688673Z",
     "iopub.status.busy": "2023-05-11T09:27:40.688204Z",
     "iopub.status.idle": "2023-05-11T09:27:40.728177Z",
     "shell.execute_reply": "2023-05-11T09:27:40.727270Z"
    },
    "papermill": {
     "duration": 0.057328,
     "end_time": "2023-05-11T09:27:40.730657",
     "exception": false,
     "start_time": "2023-05-11T09:27:40.673329",
     "status": "completed"
    },
    "tags": []
   },
   "outputs": [
    {
     "data": {
      "text/html": [
       "<div>\n",
       "<style scoped>\n",
       "    .dataframe tbody tr th:only-of-type {\n",
       "        vertical-align: middle;\n",
       "    }\n",
       "\n",
       "    .dataframe tbody tr th {\n",
       "        vertical-align: top;\n",
       "    }\n",
       "\n",
       "    .dataframe thead th {\n",
       "        text-align: right;\n",
       "    }\n",
       "</style>\n",
       "<table border=\"1\" class=\"dataframe\">\n",
       "  <thead>\n",
       "    <tr style=\"text-align: right;\">\n",
       "      <th></th>\n",
       "      <th>Marketing Spend</th>\n",
       "      <th>Administration</th>\n",
       "      <th>Transport</th>\n",
       "      <th>Area</th>\n",
       "      <th>Profit</th>\n",
       "    </tr>\n",
       "  </thead>\n",
       "  <tbody>\n",
       "    <tr>\n",
       "      <th>0</th>\n",
       "      <td>114523.61</td>\n",
       "      <td>136897.80</td>\n",
       "      <td>471784.10</td>\n",
       "      <td>Dhaka</td>\n",
       "      <td>192261.83</td>\n",
       "    </tr>\n",
       "    <tr>\n",
       "      <th>1</th>\n",
       "      <td>162597.70</td>\n",
       "      <td>151377.59</td>\n",
       "      <td>443898.53</td>\n",
       "      <td>Ctg</td>\n",
       "      <td>191792.06</td>\n",
       "    </tr>\n",
       "    <tr>\n",
       "      <th>2</th>\n",
       "      <td>153441.51</td>\n",
       "      <td>101145.55</td>\n",
       "      <td>407934.54</td>\n",
       "      <td>Rangpur</td>\n",
       "      <td>191050.39</td>\n",
       "    </tr>\n",
       "    <tr>\n",
       "      <th>3</th>\n",
       "      <td>144372.41</td>\n",
       "      <td>118671.85</td>\n",
       "      <td>383199.62</td>\n",
       "      <td>Dhaka</td>\n",
       "      <td>182901.99</td>\n",
       "    </tr>\n",
       "    <tr>\n",
       "      <th>4</th>\n",
       "      <td>142107.34</td>\n",
       "      <td>91391.77</td>\n",
       "      <td>366168.42</td>\n",
       "      <td>Rangpur</td>\n",
       "      <td>166187.94</td>\n",
       "    </tr>\n",
       "  </tbody>\n",
       "</table>\n",
       "</div>"
      ],
      "text/plain": [
       "   Marketing Spend  Administration  Transport     Area     Profit\n",
       "0        114523.61       136897.80  471784.10    Dhaka  192261.83\n",
       "1        162597.70       151377.59  443898.53      Ctg  191792.06\n",
       "2        153441.51       101145.55  407934.54  Rangpur  191050.39\n",
       "3        144372.41       118671.85  383199.62    Dhaka  182901.99\n",
       "4        142107.34        91391.77  366168.42  Rangpur  166187.94"
      ]
     },
     "execution_count": 3,
     "metadata": {},
     "output_type": "execute_result"
    }
   ],
   "source": [
    "df.head()"
   ]
  },
  {
   "cell_type": "code",
   "execution_count": 4,
   "id": "1ff1b2c5",
   "metadata": {
    "execution": {
     "iopub.execute_input": "2023-05-11T09:27:40.761906Z",
     "iopub.status.busy": "2023-05-11T09:27:40.761400Z",
     "iopub.status.idle": "2023-05-11T09:27:40.773543Z",
     "shell.execute_reply": "2023-05-11T09:27:40.772279Z"
    },
    "papermill": {
     "duration": 0.030975,
     "end_time": "2023-05-11T09:27:40.776026",
     "exception": false,
     "start_time": "2023-05-11T09:27:40.745051",
     "status": "completed"
    },
    "tags": []
   },
   "outputs": [
    {
     "data": {
      "text/plain": [
       "Marketing Spend    0\n",
       "Administration     0\n",
       "Transport          1\n",
       "Area               0\n",
       "Profit             0\n",
       "dtype: int64"
      ]
     },
     "execution_count": 4,
     "metadata": {},
     "output_type": "execute_result"
    }
   ],
   "source": [
    "df.isnull().sum()"
   ]
  },
  {
   "cell_type": "code",
   "execution_count": 5,
   "id": "be04da2a",
   "metadata": {
    "execution": {
     "iopub.execute_input": "2023-05-11T09:27:40.807941Z",
     "iopub.status.busy": "2023-05-11T09:27:40.807544Z",
     "iopub.status.idle": "2023-05-11T09:27:40.815382Z",
     "shell.execute_reply": "2023-05-11T09:27:40.814499Z"
    },
    "papermill": {
     "duration": 0.027711,
     "end_time": "2023-05-11T09:27:40.818191",
     "exception": false,
     "start_time": "2023-05-11T09:27:40.790480",
     "status": "completed"
    },
    "tags": []
   },
   "outputs": [
    {
     "data": {
      "text/plain": [
       "215331.7324489796"
      ]
     },
     "execution_count": 5,
     "metadata": {},
     "output_type": "execute_result"
    }
   ],
   "source": [
    "df.Transport.mean()"
   ]
  },
  {
   "cell_type": "code",
   "execution_count": 6,
   "id": "386b5715",
   "metadata": {
    "execution": {
     "iopub.execute_input": "2023-05-11T09:27:40.849898Z",
     "iopub.status.busy": "2023-05-11T09:27:40.849419Z",
     "iopub.status.idle": "2023-05-11T09:27:40.861532Z",
     "shell.execute_reply": "2023-05-11T09:27:40.860086Z"
    },
    "papermill": {
     "duration": 0.031613,
     "end_time": "2023-05-11T09:27:40.864401",
     "exception": false,
     "start_time": "2023-05-11T09:27:40.832788",
     "status": "completed"
    },
    "tags": []
   },
   "outputs": [
    {
     "data": {
      "text/plain": [
       "214634.81"
      ]
     },
     "execution_count": 6,
     "metadata": {},
     "output_type": "execute_result"
    }
   ],
   "source": [
    "df.Transport.median()"
   ]
  },
  {
   "cell_type": "code",
   "execution_count": 7,
   "id": "58dd4d70",
   "metadata": {
    "execution": {
     "iopub.execute_input": "2023-05-11T09:27:40.896958Z",
     "iopub.status.busy": "2023-05-11T09:27:40.896549Z",
     "iopub.status.idle": "2023-05-11T09:27:40.906091Z",
     "shell.execute_reply": "2023-05-11T09:27:40.904917Z"
    },
    "papermill": {
     "duration": 0.028719,
     "end_time": "2023-05-11T09:27:40.908814",
     "exception": false,
     "start_time": "2023-05-11T09:27:40.880095",
     "status": "completed"
    },
    "tags": []
   },
   "outputs": [],
   "source": [
    "df1=df.copy()\n",
    "df2=df.copy()\n",
    "df3=df.copy()\n",
    "df4=df.copy()\n",
    "df5=df.copy()\n",
    "df6=df.copy()\n",
    "df7=df.copy()\n",
    "df8=df.copy()\n",
    "df9=df.copy()\n",
    "df10=df.copy()\n",
    "df11=df.copy()"
   ]
  },
  {
   "cell_type": "code",
   "execution_count": 8,
   "id": "9aab83fd",
   "metadata": {
    "execution": {
     "iopub.execute_input": "2023-05-11T09:27:40.940907Z",
     "iopub.status.busy": "2023-05-11T09:27:40.940480Z",
     "iopub.status.idle": "2023-05-11T09:27:40.948870Z",
     "shell.execute_reply": "2023-05-11T09:27:40.947508Z"
    },
    "papermill": {
     "duration": 0.027296,
     "end_time": "2023-05-11T09:27:40.951642",
     "exception": false,
     "start_time": "2023-05-11T09:27:40.924346",
     "status": "completed"
    },
    "tags": []
   },
   "outputs": [],
   "source": [
    "df.dropna(inplace=True)"
   ]
  },
  {
   "cell_type": "code",
   "execution_count": 9,
   "id": "05143877",
   "metadata": {
    "execution": {
     "iopub.execute_input": "2023-05-11T09:27:40.984744Z",
     "iopub.status.busy": "2023-05-11T09:27:40.984284Z",
     "iopub.status.idle": "2023-05-11T09:27:40.991910Z",
     "shell.execute_reply": "2023-05-11T09:27:40.990463Z"
    },
    "papermill": {
     "duration": 0.028538,
     "end_time": "2023-05-11T09:27:40.994530",
     "exception": false,
     "start_time": "2023-05-11T09:27:40.965992",
     "status": "completed"
    },
    "tags": []
   },
   "outputs": [
    {
     "data": {
      "text/plain": [
       "(49, 5)"
      ]
     },
     "execution_count": 9,
     "metadata": {},
     "output_type": "execute_result"
    }
   ],
   "source": [
    "df.shape"
   ]
  },
  {
   "cell_type": "code",
   "execution_count": 10,
   "id": "e0053f98",
   "metadata": {
    "execution": {
     "iopub.execute_input": "2023-05-11T09:27:41.025081Z",
     "iopub.status.busy": "2023-05-11T09:27:41.024701Z",
     "iopub.status.idle": "2023-05-11T09:27:41.034557Z",
     "shell.execute_reply": "2023-05-11T09:27:41.033376Z"
    },
    "papermill": {
     "duration": 0.028046,
     "end_time": "2023-05-11T09:27:41.037071",
     "exception": false,
     "start_time": "2023-05-11T09:27:41.009025",
     "status": "completed"
    },
    "tags": []
   },
   "outputs": [
    {
     "data": {
      "text/plain": [
       "Marketing Spend    0\n",
       "Administration     0\n",
       "Transport          0\n",
       "Area               0\n",
       "Profit             0\n",
       "dtype: int64"
      ]
     },
     "execution_count": 10,
     "metadata": {},
     "output_type": "execute_result"
    }
   ],
   "source": [
    "df.isnull().sum()"
   ]
  },
  {
   "cell_type": "code",
   "execution_count": 11,
   "id": "a5489f3e",
   "metadata": {
    "execution": {
     "iopub.execute_input": "2023-05-11T09:27:41.071232Z",
     "iopub.status.busy": "2023-05-11T09:27:41.069980Z",
     "iopub.status.idle": "2023-05-11T09:27:41.080044Z",
     "shell.execute_reply": "2023-05-11T09:27:41.078900Z"
    },
    "papermill": {
     "duration": 0.028878,
     "end_time": "2023-05-11T09:27:41.082474",
     "exception": false,
     "start_time": "2023-05-11T09:27:41.053596",
     "status": "completed"
    },
    "tags": []
   },
   "outputs": [
    {
     "data": {
      "text/plain": [
       "Marketing Spend    0\n",
       "Administration     0\n",
       "Transport          1\n",
       "Area               0\n",
       "Profit             0\n",
       "dtype: int64"
      ]
     },
     "execution_count": 11,
     "metadata": {},
     "output_type": "execute_result"
    }
   ],
   "source": [
    "df1.isnull().sum()"
   ]
  },
  {
   "cell_type": "code",
   "execution_count": 12,
   "id": "be2e11c9",
   "metadata": {
    "execution": {
     "iopub.execute_input": "2023-05-11T09:27:41.116456Z",
     "iopub.status.busy": "2023-05-11T09:27:41.114902Z",
     "iopub.status.idle": "2023-05-11T09:27:41.122922Z",
     "shell.execute_reply": "2023-05-11T09:27:41.121412Z"
    },
    "papermill": {
     "duration": 0.027922,
     "end_time": "2023-05-11T09:27:41.125953",
     "exception": false,
     "start_time": "2023-05-11T09:27:41.098031",
     "status": "completed"
    },
    "tags": []
   },
   "outputs": [],
   "source": [
    "#handle NaN value\n",
    "df1.Transport=df1.Transport.fillna(df1.Transport.mean())"
   ]
  },
  {
   "cell_type": "code",
   "execution_count": 13,
   "id": "8f06d8ae",
   "metadata": {
    "execution": {
     "iopub.execute_input": "2023-05-11T09:27:41.159940Z",
     "iopub.status.busy": "2023-05-11T09:27:41.159467Z",
     "iopub.status.idle": "2023-05-11T09:27:41.172149Z",
     "shell.execute_reply": "2023-05-11T09:27:41.170344Z"
    },
    "papermill": {
     "duration": 0.033384,
     "end_time": "2023-05-11T09:27:41.174874",
     "exception": false,
     "start_time": "2023-05-11T09:27:41.141490",
     "status": "completed"
    },
    "tags": []
   },
   "outputs": [
    {
     "data": {
      "text/plain": [
       "Marketing Spend    0\n",
       "Administration     0\n",
       "Transport          0\n",
       "Area               0\n",
       "Profit             0\n",
       "dtype: int64"
      ]
     },
     "execution_count": 13,
     "metadata": {},
     "output_type": "execute_result"
    }
   ],
   "source": [
    "df1.isnull().sum()"
   ]
  },
  {
   "cell_type": "markdown",
   "id": "53005d6f",
   "metadata": {
    "papermill": {
     "duration": 0.014768,
     "end_time": "2023-05-11T09:27:41.205231",
     "exception": false,
     "start_time": "2023-05-11T09:27:41.190463",
     "status": "completed"
    },
    "tags": []
   },
   "source": [
    "# Encoding"
   ]
  },
  {
   "cell_type": "markdown",
   "id": "385500ee",
   "metadata": {
    "papermill": {
     "duration": 0.014609,
     "end_time": "2023-05-11T09:27:41.235351",
     "exception": false,
     "start_time": "2023-05-11T09:27:41.220742",
     "status": "completed"
    },
    "tags": []
   },
   "source": [
    "## Label Encoding"
   ]
  },
  {
   "cell_type": "code",
   "execution_count": 14,
   "id": "0cc2e926",
   "metadata": {
    "execution": {
     "iopub.execute_input": "2023-05-11T09:27:41.270463Z",
     "iopub.status.busy": "2023-05-11T09:27:41.269883Z",
     "iopub.status.idle": "2023-05-11T09:27:42.823113Z",
     "shell.execute_reply": "2023-05-11T09:27:42.821552Z"
    },
    "papermill": {
     "duration": 1.574259,
     "end_time": "2023-05-11T09:27:42.826211",
     "exception": false,
     "start_time": "2023-05-11T09:27:41.251952",
     "status": "completed"
    },
    "tags": []
   },
   "outputs": [],
   "source": [
    "from sklearn.preprocessing import LabelEncoder"
   ]
  },
  {
   "cell_type": "code",
   "execution_count": 15,
   "id": "275d84ec",
   "metadata": {
    "execution": {
     "iopub.execute_input": "2023-05-11T09:27:42.858571Z",
     "iopub.status.busy": "2023-05-11T09:27:42.858135Z",
     "iopub.status.idle": "2023-05-11T09:27:42.864791Z",
     "shell.execute_reply": "2023-05-11T09:27:42.862898Z"
    },
    "papermill": {
     "duration": 0.025678,
     "end_time": "2023-05-11T09:27:42.867555",
     "exception": false,
     "start_time": "2023-05-11T09:27:42.841877",
     "status": "completed"
    },
    "tags": []
   },
   "outputs": [],
   "source": [
    "le=LabelEncoder()"
   ]
  },
  {
   "cell_type": "code",
   "execution_count": 16,
   "id": "04659a7d",
   "metadata": {
    "execution": {
     "iopub.execute_input": "2023-05-11T09:27:42.903467Z",
     "iopub.status.busy": "2023-05-11T09:27:42.902565Z",
     "iopub.status.idle": "2023-05-11T09:27:42.919096Z",
     "shell.execute_reply": "2023-05-11T09:27:42.917924Z"
    },
    "papermill": {
     "duration": 0.038149,
     "end_time": "2023-05-11T09:27:42.921772",
     "exception": false,
     "start_time": "2023-05-11T09:27:42.883623",
     "status": "completed"
    },
    "tags": []
   },
   "outputs": [
    {
     "data": {
      "text/html": [
       "<div>\n",
       "<style scoped>\n",
       "    .dataframe tbody tr th:only-of-type {\n",
       "        vertical-align: middle;\n",
       "    }\n",
       "\n",
       "    .dataframe tbody tr th {\n",
       "        vertical-align: top;\n",
       "    }\n",
       "\n",
       "    .dataframe thead th {\n",
       "        text-align: right;\n",
       "    }\n",
       "</style>\n",
       "<table border=\"1\" class=\"dataframe\">\n",
       "  <thead>\n",
       "    <tr style=\"text-align: right;\">\n",
       "      <th></th>\n",
       "      <th>Marketing Spend</th>\n",
       "      <th>Administration</th>\n",
       "      <th>Transport</th>\n",
       "      <th>Area</th>\n",
       "      <th>Profit</th>\n",
       "    </tr>\n",
       "  </thead>\n",
       "  <tbody>\n",
       "    <tr>\n",
       "      <th>0</th>\n",
       "      <td>114523.61</td>\n",
       "      <td>136897.80</td>\n",
       "      <td>471784.10</td>\n",
       "      <td>Dhaka</td>\n",
       "      <td>192261.83</td>\n",
       "    </tr>\n",
       "    <tr>\n",
       "      <th>1</th>\n",
       "      <td>162597.70</td>\n",
       "      <td>151377.59</td>\n",
       "      <td>443898.53</td>\n",
       "      <td>Ctg</td>\n",
       "      <td>191792.06</td>\n",
       "    </tr>\n",
       "    <tr>\n",
       "      <th>2</th>\n",
       "      <td>153441.51</td>\n",
       "      <td>101145.55</td>\n",
       "      <td>407934.54</td>\n",
       "      <td>Rangpur</td>\n",
       "      <td>191050.39</td>\n",
       "    </tr>\n",
       "    <tr>\n",
       "      <th>3</th>\n",
       "      <td>144372.41</td>\n",
       "      <td>118671.85</td>\n",
       "      <td>383199.62</td>\n",
       "      <td>Dhaka</td>\n",
       "      <td>182901.99</td>\n",
       "    </tr>\n",
       "    <tr>\n",
       "      <th>4</th>\n",
       "      <td>142107.34</td>\n",
       "      <td>91391.77</td>\n",
       "      <td>366168.42</td>\n",
       "      <td>Rangpur</td>\n",
       "      <td>166187.94</td>\n",
       "    </tr>\n",
       "  </tbody>\n",
       "</table>\n",
       "</div>"
      ],
      "text/plain": [
       "   Marketing Spend  Administration  Transport     Area     Profit\n",
       "0        114523.61       136897.80  471784.10    Dhaka  192261.83\n",
       "1        162597.70       151377.59  443898.53      Ctg  191792.06\n",
       "2        153441.51       101145.55  407934.54  Rangpur  191050.39\n",
       "3        144372.41       118671.85  383199.62    Dhaka  182901.99\n",
       "4        142107.34        91391.77  366168.42  Rangpur  166187.94"
      ]
     },
     "execution_count": 16,
     "metadata": {},
     "output_type": "execute_result"
    }
   ],
   "source": [
    "df.head()"
   ]
  },
  {
   "cell_type": "code",
   "execution_count": 17,
   "id": "2a22ac9f",
   "metadata": {
    "execution": {
     "iopub.execute_input": "2023-05-11T09:27:42.956314Z",
     "iopub.status.busy": "2023-05-11T09:27:42.955666Z",
     "iopub.status.idle": "2023-05-11T09:27:42.961501Z",
     "shell.execute_reply": "2023-05-11T09:27:42.960550Z"
    },
    "papermill": {
     "duration": 0.026137,
     "end_time": "2023-05-11T09:27:42.963940",
     "exception": false,
     "start_time": "2023-05-11T09:27:42.937803",
     "status": "completed"
    },
    "tags": []
   },
   "outputs": [],
   "source": [
    "df.Area = le.fit_transform(df[\"Area\"])"
   ]
  },
  {
   "cell_type": "code",
   "execution_count": 18,
   "id": "763c8415",
   "metadata": {
    "execution": {
     "iopub.execute_input": "2023-05-11T09:27:42.997949Z",
     "iopub.status.busy": "2023-05-11T09:27:42.997250Z",
     "iopub.status.idle": "2023-05-11T09:27:43.011535Z",
     "shell.execute_reply": "2023-05-11T09:27:43.010333Z"
    },
    "papermill": {
     "duration": 0.035311,
     "end_time": "2023-05-11T09:27:43.014185",
     "exception": false,
     "start_time": "2023-05-11T09:27:42.978874",
     "status": "completed"
    },
    "tags": []
   },
   "outputs": [
    {
     "data": {
      "text/html": [
       "<div>\n",
       "<style scoped>\n",
       "    .dataframe tbody tr th:only-of-type {\n",
       "        vertical-align: middle;\n",
       "    }\n",
       "\n",
       "    .dataframe tbody tr th {\n",
       "        vertical-align: top;\n",
       "    }\n",
       "\n",
       "    .dataframe thead th {\n",
       "        text-align: right;\n",
       "    }\n",
       "</style>\n",
       "<table border=\"1\" class=\"dataframe\">\n",
       "  <thead>\n",
       "    <tr style=\"text-align: right;\">\n",
       "      <th></th>\n",
       "      <th>Marketing Spend</th>\n",
       "      <th>Administration</th>\n",
       "      <th>Transport</th>\n",
       "      <th>Area</th>\n",
       "      <th>Profit</th>\n",
       "    </tr>\n",
       "  </thead>\n",
       "  <tbody>\n",
       "    <tr>\n",
       "      <th>0</th>\n",
       "      <td>114523.61</td>\n",
       "      <td>136897.80</td>\n",
       "      <td>471784.10</td>\n",
       "      <td>1</td>\n",
       "      <td>192261.83</td>\n",
       "    </tr>\n",
       "    <tr>\n",
       "      <th>1</th>\n",
       "      <td>162597.70</td>\n",
       "      <td>151377.59</td>\n",
       "      <td>443898.53</td>\n",
       "      <td>0</td>\n",
       "      <td>191792.06</td>\n",
       "    </tr>\n",
       "    <tr>\n",
       "      <th>2</th>\n",
       "      <td>153441.51</td>\n",
       "      <td>101145.55</td>\n",
       "      <td>407934.54</td>\n",
       "      <td>2</td>\n",
       "      <td>191050.39</td>\n",
       "    </tr>\n",
       "    <tr>\n",
       "      <th>3</th>\n",
       "      <td>144372.41</td>\n",
       "      <td>118671.85</td>\n",
       "      <td>383199.62</td>\n",
       "      <td>1</td>\n",
       "      <td>182901.99</td>\n",
       "    </tr>\n",
       "    <tr>\n",
       "      <th>4</th>\n",
       "      <td>142107.34</td>\n",
       "      <td>91391.77</td>\n",
       "      <td>366168.42</td>\n",
       "      <td>2</td>\n",
       "      <td>166187.94</td>\n",
       "    </tr>\n",
       "  </tbody>\n",
       "</table>\n",
       "</div>"
      ],
      "text/plain": [
       "   Marketing Spend  Administration  Transport  Area     Profit\n",
       "0        114523.61       136897.80  471784.10     1  192261.83\n",
       "1        162597.70       151377.59  443898.53     0  191792.06\n",
       "2        153441.51       101145.55  407934.54     2  191050.39\n",
       "3        144372.41       118671.85  383199.62     1  182901.99\n",
       "4        142107.34        91391.77  366168.42     2  166187.94"
      ]
     },
     "execution_count": 18,
     "metadata": {},
     "output_type": "execute_result"
    }
   ],
   "source": [
    "df.head()"
   ]
  },
  {
   "cell_type": "code",
   "execution_count": 19,
   "id": "faf481ba",
   "metadata": {
    "execution": {
     "iopub.execute_input": "2023-05-11T09:27:43.048827Z",
     "iopub.status.busy": "2023-05-11T09:27:43.048060Z",
     "iopub.status.idle": "2023-05-11T09:27:43.063107Z",
     "shell.execute_reply": "2023-05-11T09:27:43.061938Z"
    },
    "papermill": {
     "duration": 0.035814,
     "end_time": "2023-05-11T09:27:43.065505",
     "exception": false,
     "start_time": "2023-05-11T09:27:43.029691",
     "status": "completed"
    },
    "tags": []
   },
   "outputs": [
    {
     "data": {
      "text/html": [
       "<div>\n",
       "<style scoped>\n",
       "    .dataframe tbody tr th:only-of-type {\n",
       "        vertical-align: middle;\n",
       "    }\n",
       "\n",
       "    .dataframe tbody tr th {\n",
       "        vertical-align: top;\n",
       "    }\n",
       "\n",
       "    .dataframe thead th {\n",
       "        text-align: right;\n",
       "    }\n",
       "</style>\n",
       "<table border=\"1\" class=\"dataframe\">\n",
       "  <thead>\n",
       "    <tr style=\"text-align: right;\">\n",
       "      <th></th>\n",
       "      <th>Marketing Spend</th>\n",
       "      <th>Administration</th>\n",
       "      <th>Transport</th>\n",
       "      <th>Area</th>\n",
       "      <th>Profit</th>\n",
       "    </tr>\n",
       "  </thead>\n",
       "  <tbody>\n",
       "    <tr>\n",
       "      <th>0</th>\n",
       "      <td>114523.61</td>\n",
       "      <td>136897.80</td>\n",
       "      <td>471784.10</td>\n",
       "      <td>Dhaka</td>\n",
       "      <td>192261.83</td>\n",
       "    </tr>\n",
       "    <tr>\n",
       "      <th>1</th>\n",
       "      <td>162597.70</td>\n",
       "      <td>151377.59</td>\n",
       "      <td>443898.53</td>\n",
       "      <td>Ctg</td>\n",
       "      <td>191792.06</td>\n",
       "    </tr>\n",
       "    <tr>\n",
       "      <th>2</th>\n",
       "      <td>153441.51</td>\n",
       "      <td>101145.55</td>\n",
       "      <td>407934.54</td>\n",
       "      <td>Rangpur</td>\n",
       "      <td>191050.39</td>\n",
       "    </tr>\n",
       "    <tr>\n",
       "      <th>3</th>\n",
       "      <td>144372.41</td>\n",
       "      <td>118671.85</td>\n",
       "      <td>383199.62</td>\n",
       "      <td>Dhaka</td>\n",
       "      <td>182901.99</td>\n",
       "    </tr>\n",
       "    <tr>\n",
       "      <th>4</th>\n",
       "      <td>142107.34</td>\n",
       "      <td>91391.77</td>\n",
       "      <td>366168.42</td>\n",
       "      <td>Rangpur</td>\n",
       "      <td>166187.94</td>\n",
       "    </tr>\n",
       "  </tbody>\n",
       "</table>\n",
       "</div>"
      ],
      "text/plain": [
       "   Marketing Spend  Administration  Transport     Area     Profit\n",
       "0        114523.61       136897.80  471784.10    Dhaka  192261.83\n",
       "1        162597.70       151377.59  443898.53      Ctg  191792.06\n",
       "2        153441.51       101145.55  407934.54  Rangpur  191050.39\n",
       "3        144372.41       118671.85  383199.62    Dhaka  182901.99\n",
       "4        142107.34        91391.77  366168.42  Rangpur  166187.94"
      ]
     },
     "execution_count": 19,
     "metadata": {},
     "output_type": "execute_result"
    }
   ],
   "source": [
    "df1.head()"
   ]
  },
  {
   "cell_type": "code",
   "execution_count": 20,
   "id": "b13af85a",
   "metadata": {
    "execution": {
     "iopub.execute_input": "2023-05-11T09:27:43.101541Z",
     "iopub.status.busy": "2023-05-11T09:27:43.100818Z",
     "iopub.status.idle": "2023-05-11T09:27:43.111666Z",
     "shell.execute_reply": "2023-05-11T09:27:43.110331Z"
    },
    "papermill": {
     "duration": 0.033599,
     "end_time": "2023-05-11T09:27:43.114845",
     "exception": false,
     "start_time": "2023-05-11T09:27:43.081246",
     "status": "completed"
    },
    "tags": []
   },
   "outputs": [
    {
     "data": {
      "text/plain": [
       "Marketing Spend    0\n",
       "Administration     0\n",
       "Transport          0\n",
       "Area               0\n",
       "Profit             0\n",
       "dtype: int64"
      ]
     },
     "execution_count": 20,
     "metadata": {},
     "output_type": "execute_result"
    }
   ],
   "source": [
    "df1.isnull().sum()"
   ]
  },
  {
   "cell_type": "code",
   "execution_count": 21,
   "id": "ae0a476c",
   "metadata": {
    "execution": {
     "iopub.execute_input": "2023-05-11T09:27:43.148815Z",
     "iopub.status.busy": "2023-05-11T09:27:43.148383Z",
     "iopub.status.idle": "2023-05-11T09:27:43.156704Z",
     "shell.execute_reply": "2023-05-11T09:27:43.155303Z"
    },
    "papermill": {
     "duration": 0.028308,
     "end_time": "2023-05-11T09:27:43.159421",
     "exception": false,
     "start_time": "2023-05-11T09:27:43.131113",
     "status": "completed"
    },
    "tags": []
   },
   "outputs": [
    {
     "data": {
      "text/plain": [
       "Index(['Marketing Spend', 'Administration', 'Transport', 'Area', 'Profit'], dtype='object')"
      ]
     },
     "execution_count": 21,
     "metadata": {},
     "output_type": "execute_result"
    }
   ],
   "source": [
    "df1.columns"
   ]
  },
  {
   "cell_type": "code",
   "execution_count": 22,
   "id": "79903249",
   "metadata": {
    "execution": {
     "iopub.execute_input": "2023-05-11T09:27:43.195326Z",
     "iopub.status.busy": "2023-05-11T09:27:43.194897Z",
     "iopub.status.idle": "2023-05-11T09:27:43.202062Z",
     "shell.execute_reply": "2023-05-11T09:27:43.200875Z"
    },
    "papermill": {
     "duration": 0.027551,
     "end_time": "2023-05-11T09:27:43.204790",
     "exception": false,
     "start_time": "2023-05-11T09:27:43.177239",
     "status": "completed"
    },
    "tags": []
   },
   "outputs": [],
   "source": [
    "#loop\n",
    "for column in df1.columns:\n",
    "    if df1[column].dtype == np.number:\n",
    "        continue\n",
    "    else:\n",
    "        df1[column] = le.fit_transform(df2[column])"
   ]
  },
  {
   "cell_type": "code",
   "execution_count": 23,
   "id": "10bd5946",
   "metadata": {
    "execution": {
     "iopub.execute_input": "2023-05-11T09:27:43.238585Z",
     "iopub.status.busy": "2023-05-11T09:27:43.238136Z",
     "iopub.status.idle": "2023-05-11T09:27:43.252444Z",
     "shell.execute_reply": "2023-05-11T09:27:43.251535Z"
    },
    "papermill": {
     "duration": 0.03404,
     "end_time": "2023-05-11T09:27:43.254681",
     "exception": false,
     "start_time": "2023-05-11T09:27:43.220641",
     "status": "completed"
    },
    "tags": []
   },
   "outputs": [
    {
     "data": {
      "text/html": [
       "<div>\n",
       "<style scoped>\n",
       "    .dataframe tbody tr th:only-of-type {\n",
       "        vertical-align: middle;\n",
       "    }\n",
       "\n",
       "    .dataframe tbody tr th {\n",
       "        vertical-align: top;\n",
       "    }\n",
       "\n",
       "    .dataframe thead th {\n",
       "        text-align: right;\n",
       "    }\n",
       "</style>\n",
       "<table border=\"1\" class=\"dataframe\">\n",
       "  <thead>\n",
       "    <tr style=\"text-align: right;\">\n",
       "      <th></th>\n",
       "      <th>Marketing Spend</th>\n",
       "      <th>Administration</th>\n",
       "      <th>Transport</th>\n",
       "      <th>Area</th>\n",
       "      <th>Profit</th>\n",
       "    </tr>\n",
       "  </thead>\n",
       "  <tbody>\n",
       "    <tr>\n",
       "      <th>0</th>\n",
       "      <td>114523.61</td>\n",
       "      <td>136897.80</td>\n",
       "      <td>471784.10</td>\n",
       "      <td>1</td>\n",
       "      <td>192261.83</td>\n",
       "    </tr>\n",
       "    <tr>\n",
       "      <th>1</th>\n",
       "      <td>162597.70</td>\n",
       "      <td>151377.59</td>\n",
       "      <td>443898.53</td>\n",
       "      <td>0</td>\n",
       "      <td>191792.06</td>\n",
       "    </tr>\n",
       "    <tr>\n",
       "      <th>2</th>\n",
       "      <td>153441.51</td>\n",
       "      <td>101145.55</td>\n",
       "      <td>407934.54</td>\n",
       "      <td>2</td>\n",
       "      <td>191050.39</td>\n",
       "    </tr>\n",
       "    <tr>\n",
       "      <th>3</th>\n",
       "      <td>144372.41</td>\n",
       "      <td>118671.85</td>\n",
       "      <td>383199.62</td>\n",
       "      <td>1</td>\n",
       "      <td>182901.99</td>\n",
       "    </tr>\n",
       "    <tr>\n",
       "      <th>4</th>\n",
       "      <td>142107.34</td>\n",
       "      <td>91391.77</td>\n",
       "      <td>366168.42</td>\n",
       "      <td>2</td>\n",
       "      <td>166187.94</td>\n",
       "    </tr>\n",
       "  </tbody>\n",
       "</table>\n",
       "</div>"
      ],
      "text/plain": [
       "   Marketing Spend  Administration  Transport  Area     Profit\n",
       "0        114523.61       136897.80  471784.10     1  192261.83\n",
       "1        162597.70       151377.59  443898.53     0  191792.06\n",
       "2        153441.51       101145.55  407934.54     2  191050.39\n",
       "3        144372.41       118671.85  383199.62     1  182901.99\n",
       "4        142107.34        91391.77  366168.42     2  166187.94"
      ]
     },
     "execution_count": 23,
     "metadata": {},
     "output_type": "execute_result"
    }
   ],
   "source": [
    "df1.head()"
   ]
  },
  {
   "cell_type": "code",
   "execution_count": 24,
   "id": "4589eee4",
   "metadata": {
    "execution": {
     "iopub.execute_input": "2023-05-11T09:27:43.292111Z",
     "iopub.status.busy": "2023-05-11T09:27:43.291680Z",
     "iopub.status.idle": "2023-05-11T09:27:43.297294Z",
     "shell.execute_reply": "2023-05-11T09:27:43.295739Z"
    },
    "papermill": {
     "duration": 0.028393,
     "end_time": "2023-05-11T09:27:43.300319",
     "exception": false,
     "start_time": "2023-05-11T09:27:43.271926",
     "status": "completed"
    },
    "tags": []
   },
   "outputs": [],
   "source": [
    "#Without warning\n",
    "from pandas.core.dtypes.common import is_numeric_dtype"
   ]
  },
  {
   "cell_type": "code",
   "execution_count": 25,
   "id": "9b4a5638",
   "metadata": {
    "execution": {
     "iopub.execute_input": "2023-05-11T09:27:43.336492Z",
     "iopub.status.busy": "2023-05-11T09:27:43.335691Z",
     "iopub.status.idle": "2023-05-11T09:27:43.343148Z",
     "shell.execute_reply": "2023-05-11T09:27:43.341736Z"
    },
    "papermill": {
     "duration": 0.028618,
     "end_time": "2023-05-11T09:27:43.345642",
     "exception": false,
     "start_time": "2023-05-11T09:27:43.317024",
     "status": "completed"
    },
    "tags": []
   },
   "outputs": [],
   "source": [
    "for col in df3.columns:\n",
    "    if is_numeric_dtype(df3[col]):\n",
    "        continue\n",
    "    else:\n",
    "         df3[col] = le.fit_transform(df3[col])"
   ]
  },
  {
   "cell_type": "code",
   "execution_count": 26,
   "id": "743aac3b",
   "metadata": {
    "execution": {
     "iopub.execute_input": "2023-05-11T09:27:43.381620Z",
     "iopub.status.busy": "2023-05-11T09:27:43.380582Z",
     "iopub.status.idle": "2023-05-11T09:27:43.396687Z",
     "shell.execute_reply": "2023-05-11T09:27:43.395365Z"
    },
    "papermill": {
     "duration": 0.036772,
     "end_time": "2023-05-11T09:27:43.399552",
     "exception": false,
     "start_time": "2023-05-11T09:27:43.362780",
     "status": "completed"
    },
    "tags": []
   },
   "outputs": [
    {
     "data": {
      "text/html": [
       "<div>\n",
       "<style scoped>\n",
       "    .dataframe tbody tr th:only-of-type {\n",
       "        vertical-align: middle;\n",
       "    }\n",
       "\n",
       "    .dataframe tbody tr th {\n",
       "        vertical-align: top;\n",
       "    }\n",
       "\n",
       "    .dataframe thead th {\n",
       "        text-align: right;\n",
       "    }\n",
       "</style>\n",
       "<table border=\"1\" class=\"dataframe\">\n",
       "  <thead>\n",
       "    <tr style=\"text-align: right;\">\n",
       "      <th></th>\n",
       "      <th>Marketing Spend</th>\n",
       "      <th>Administration</th>\n",
       "      <th>Transport</th>\n",
       "      <th>Area</th>\n",
       "      <th>Profit</th>\n",
       "    </tr>\n",
       "  </thead>\n",
       "  <tbody>\n",
       "    <tr>\n",
       "      <th>0</th>\n",
       "      <td>114523.61</td>\n",
       "      <td>136897.80</td>\n",
       "      <td>471784.10</td>\n",
       "      <td>1</td>\n",
       "      <td>192261.83</td>\n",
       "    </tr>\n",
       "    <tr>\n",
       "      <th>1</th>\n",
       "      <td>162597.70</td>\n",
       "      <td>151377.59</td>\n",
       "      <td>443898.53</td>\n",
       "      <td>0</td>\n",
       "      <td>191792.06</td>\n",
       "    </tr>\n",
       "    <tr>\n",
       "      <th>2</th>\n",
       "      <td>153441.51</td>\n",
       "      <td>101145.55</td>\n",
       "      <td>407934.54</td>\n",
       "      <td>2</td>\n",
       "      <td>191050.39</td>\n",
       "    </tr>\n",
       "    <tr>\n",
       "      <th>3</th>\n",
       "      <td>144372.41</td>\n",
       "      <td>118671.85</td>\n",
       "      <td>383199.62</td>\n",
       "      <td>1</td>\n",
       "      <td>182901.99</td>\n",
       "    </tr>\n",
       "    <tr>\n",
       "      <th>4</th>\n",
       "      <td>142107.34</td>\n",
       "      <td>91391.77</td>\n",
       "      <td>366168.42</td>\n",
       "      <td>2</td>\n",
       "      <td>166187.94</td>\n",
       "    </tr>\n",
       "  </tbody>\n",
       "</table>\n",
       "</div>"
      ],
      "text/plain": [
       "   Marketing Spend  Administration  Transport  Area     Profit\n",
       "0        114523.61       136897.80  471784.10     1  192261.83\n",
       "1        162597.70       151377.59  443898.53     0  191792.06\n",
       "2        153441.51       101145.55  407934.54     2  191050.39\n",
       "3        144372.41       118671.85  383199.62     1  182901.99\n",
       "4        142107.34        91391.77  366168.42     2  166187.94"
      ]
     },
     "execution_count": 26,
     "metadata": {},
     "output_type": "execute_result"
    }
   ],
   "source": [
    "df.head()"
   ]
  },
  {
   "cell_type": "markdown",
   "id": "583b4ce7",
   "metadata": {
    "papermill": {
     "duration": 0.018787,
     "end_time": "2023-05-11T09:27:43.435131",
     "exception": false,
     "start_time": "2023-05-11T09:27:43.416344",
     "status": "completed"
    },
    "tags": []
   },
   "source": [
    "## One-hot Encoding"
   ]
  },
  {
   "cell_type": "code",
   "execution_count": 27,
   "id": "84269f42",
   "metadata": {
    "execution": {
     "iopub.execute_input": "2023-05-11T09:27:43.470690Z",
     "iopub.status.busy": "2023-05-11T09:27:43.470002Z",
     "iopub.status.idle": "2023-05-11T09:27:43.484524Z",
     "shell.execute_reply": "2023-05-11T09:27:43.483328Z"
    },
    "papermill": {
     "duration": 0.035152,
     "end_time": "2023-05-11T09:27:43.487074",
     "exception": false,
     "start_time": "2023-05-11T09:27:43.451922",
     "status": "completed"
    },
    "tags": []
   },
   "outputs": [
    {
     "data": {
      "text/html": [
       "<div>\n",
       "<style scoped>\n",
       "    .dataframe tbody tr th:only-of-type {\n",
       "        vertical-align: middle;\n",
       "    }\n",
       "\n",
       "    .dataframe tbody tr th {\n",
       "        vertical-align: top;\n",
       "    }\n",
       "\n",
       "    .dataframe thead th {\n",
       "        text-align: right;\n",
       "    }\n",
       "</style>\n",
       "<table border=\"1\" class=\"dataframe\">\n",
       "  <thead>\n",
       "    <tr style=\"text-align: right;\">\n",
       "      <th></th>\n",
       "      <th>Marketing Spend</th>\n",
       "      <th>Administration</th>\n",
       "      <th>Transport</th>\n",
       "      <th>Area</th>\n",
       "      <th>Profit</th>\n",
       "    </tr>\n",
       "  </thead>\n",
       "  <tbody>\n",
       "    <tr>\n",
       "      <th>0</th>\n",
       "      <td>114523.61</td>\n",
       "      <td>136897.80</td>\n",
       "      <td>471784.10</td>\n",
       "      <td>Dhaka</td>\n",
       "      <td>192261.83</td>\n",
       "    </tr>\n",
       "    <tr>\n",
       "      <th>1</th>\n",
       "      <td>162597.70</td>\n",
       "      <td>151377.59</td>\n",
       "      <td>443898.53</td>\n",
       "      <td>Ctg</td>\n",
       "      <td>191792.06</td>\n",
       "    </tr>\n",
       "    <tr>\n",
       "      <th>2</th>\n",
       "      <td>153441.51</td>\n",
       "      <td>101145.55</td>\n",
       "      <td>407934.54</td>\n",
       "      <td>Rangpur</td>\n",
       "      <td>191050.39</td>\n",
       "    </tr>\n",
       "    <tr>\n",
       "      <th>3</th>\n",
       "      <td>144372.41</td>\n",
       "      <td>118671.85</td>\n",
       "      <td>383199.62</td>\n",
       "      <td>Dhaka</td>\n",
       "      <td>182901.99</td>\n",
       "    </tr>\n",
       "    <tr>\n",
       "      <th>4</th>\n",
       "      <td>142107.34</td>\n",
       "      <td>91391.77</td>\n",
       "      <td>366168.42</td>\n",
       "      <td>Rangpur</td>\n",
       "      <td>166187.94</td>\n",
       "    </tr>\n",
       "  </tbody>\n",
       "</table>\n",
       "</div>"
      ],
      "text/plain": [
       "   Marketing Spend  Administration  Transport     Area     Profit\n",
       "0        114523.61       136897.80  471784.10    Dhaka  192261.83\n",
       "1        162597.70       151377.59  443898.53      Ctg  191792.06\n",
       "2        153441.51       101145.55  407934.54  Rangpur  191050.39\n",
       "3        144372.41       118671.85  383199.62    Dhaka  182901.99\n",
       "4        142107.34        91391.77  366168.42  Rangpur  166187.94"
      ]
     },
     "execution_count": 27,
     "metadata": {},
     "output_type": "execute_result"
    }
   ],
   "source": [
    "df4.head()"
   ]
  },
  {
   "cell_type": "code",
   "execution_count": 28,
   "id": "d580e501",
   "metadata": {
    "execution": {
     "iopub.execute_input": "2023-05-11T09:27:43.523146Z",
     "iopub.status.busy": "2023-05-11T09:27:43.522468Z",
     "iopub.status.idle": "2023-05-11T09:27:43.539554Z",
     "shell.execute_reply": "2023-05-11T09:27:43.538283Z"
    },
    "papermill": {
     "duration": 0.037833,
     "end_time": "2023-05-11T09:27:43.542163",
     "exception": false,
     "start_time": "2023-05-11T09:27:43.504330",
     "status": "completed"
    },
    "tags": []
   },
   "outputs": [
    {
     "data": {
      "text/html": [
       "<div>\n",
       "<style scoped>\n",
       "    .dataframe tbody tr th:only-of-type {\n",
       "        vertical-align: middle;\n",
       "    }\n",
       "\n",
       "    .dataframe tbody tr th {\n",
       "        vertical-align: top;\n",
       "    }\n",
       "\n",
       "    .dataframe thead th {\n",
       "        text-align: right;\n",
       "    }\n",
       "</style>\n",
       "<table border=\"1\" class=\"dataframe\">\n",
       "  <thead>\n",
       "    <tr style=\"text-align: right;\">\n",
       "      <th></th>\n",
       "      <th>Dhaka</th>\n",
       "      <th>Rangpur</th>\n",
       "    </tr>\n",
       "  </thead>\n",
       "  <tbody>\n",
       "    <tr>\n",
       "      <th>0</th>\n",
       "      <td>1</td>\n",
       "      <td>0</td>\n",
       "    </tr>\n",
       "    <tr>\n",
       "      <th>1</th>\n",
       "      <td>0</td>\n",
       "      <td>0</td>\n",
       "    </tr>\n",
       "    <tr>\n",
       "      <th>2</th>\n",
       "      <td>0</td>\n",
       "      <td>1</td>\n",
       "    </tr>\n",
       "    <tr>\n",
       "      <th>3</th>\n",
       "      <td>1</td>\n",
       "      <td>0</td>\n",
       "    </tr>\n",
       "    <tr>\n",
       "      <th>4</th>\n",
       "      <td>0</td>\n",
       "      <td>1</td>\n",
       "    </tr>\n",
       "  </tbody>\n",
       "</table>\n",
       "</div>"
      ],
      "text/plain": [
       "   Dhaka  Rangpur\n",
       "0      1        0\n",
       "1      0        0\n",
       "2      0        1\n",
       "3      1        0\n",
       "4      0        1"
      ]
     },
     "execution_count": 28,
     "metadata": {},
     "output_type": "execute_result"
    }
   ],
   "source": [
    "dummy = pd.get_dummies(df4[\"Area\"],drop_first=True)\n",
    "dummy.head()"
   ]
  },
  {
   "cell_type": "code",
   "execution_count": 29,
   "id": "e461e643",
   "metadata": {
    "execution": {
     "iopub.execute_input": "2023-05-11T09:27:43.584882Z",
     "iopub.status.busy": "2023-05-11T09:27:43.583904Z",
     "iopub.status.idle": "2023-05-11T09:27:43.599001Z",
     "shell.execute_reply": "2023-05-11T09:27:43.598153Z"
    },
    "papermill": {
     "duration": 0.042589,
     "end_time": "2023-05-11T09:27:43.602000",
     "exception": false,
     "start_time": "2023-05-11T09:27:43.559411",
     "status": "completed"
    },
    "tags": []
   },
   "outputs": [
    {
     "data": {
      "text/html": [
       "<div>\n",
       "<style scoped>\n",
       "    .dataframe tbody tr th:only-of-type {\n",
       "        vertical-align: middle;\n",
       "    }\n",
       "\n",
       "    .dataframe tbody tr th {\n",
       "        vertical-align: top;\n",
       "    }\n",
       "\n",
       "    .dataframe thead th {\n",
       "        text-align: right;\n",
       "    }\n",
       "</style>\n",
       "<table border=\"1\" class=\"dataframe\">\n",
       "  <thead>\n",
       "    <tr style=\"text-align: right;\">\n",
       "      <th></th>\n",
       "      <th>Marketing Spend</th>\n",
       "      <th>Administration</th>\n",
       "      <th>Transport</th>\n",
       "      <th>Profit</th>\n",
       "    </tr>\n",
       "  </thead>\n",
       "  <tbody>\n",
       "    <tr>\n",
       "      <th>0</th>\n",
       "      <td>114523.61</td>\n",
       "      <td>136897.80</td>\n",
       "      <td>471784.10</td>\n",
       "      <td>192261.83</td>\n",
       "    </tr>\n",
       "    <tr>\n",
       "      <th>1</th>\n",
       "      <td>162597.70</td>\n",
       "      <td>151377.59</td>\n",
       "      <td>443898.53</td>\n",
       "      <td>191792.06</td>\n",
       "    </tr>\n",
       "    <tr>\n",
       "      <th>2</th>\n",
       "      <td>153441.51</td>\n",
       "      <td>101145.55</td>\n",
       "      <td>407934.54</td>\n",
       "      <td>191050.39</td>\n",
       "    </tr>\n",
       "    <tr>\n",
       "      <th>3</th>\n",
       "      <td>144372.41</td>\n",
       "      <td>118671.85</td>\n",
       "      <td>383199.62</td>\n",
       "      <td>182901.99</td>\n",
       "    </tr>\n",
       "    <tr>\n",
       "      <th>4</th>\n",
       "      <td>142107.34</td>\n",
       "      <td>91391.77</td>\n",
       "      <td>366168.42</td>\n",
       "      <td>166187.94</td>\n",
       "    </tr>\n",
       "  </tbody>\n",
       "</table>\n",
       "</div>"
      ],
      "text/plain": [
       "   Marketing Spend  Administration  Transport     Profit\n",
       "0        114523.61       136897.80  471784.10  192261.83\n",
       "1        162597.70       151377.59  443898.53  191792.06\n",
       "2        153441.51       101145.55  407934.54  191050.39\n",
       "3        144372.41       118671.85  383199.62  182901.99\n",
       "4        142107.34        91391.77  366168.42  166187.94"
      ]
     },
     "execution_count": 29,
     "metadata": {},
     "output_type": "execute_result"
    }
   ],
   "source": [
    "df4=df4.drop(\"Area\",axis=1)\n",
    "df4.head()"
   ]
  },
  {
   "cell_type": "code",
   "execution_count": 30,
   "id": "d94ff317",
   "metadata": {
    "execution": {
     "iopub.execute_input": "2023-05-11T09:27:43.638972Z",
     "iopub.status.busy": "2023-05-11T09:27:43.638339Z",
     "iopub.status.idle": "2023-05-11T09:27:43.644745Z",
     "shell.execute_reply": "2023-05-11T09:27:43.643790Z"
    },
    "papermill": {
     "duration": 0.028036,
     "end_time": "2023-05-11T09:27:43.647567",
     "exception": false,
     "start_time": "2023-05-11T09:27:43.619531",
     "status": "completed"
    },
    "tags": []
   },
   "outputs": [],
   "source": [
    "new_df=pd.concat([df4,dummy],axis=1)"
   ]
  },
  {
   "cell_type": "code",
   "execution_count": 31,
   "id": "85ff8319",
   "metadata": {
    "execution": {
     "iopub.execute_input": "2023-05-11T09:27:43.686241Z",
     "iopub.status.busy": "2023-05-11T09:27:43.685576Z",
     "iopub.status.idle": "2023-05-11T09:27:43.700766Z",
     "shell.execute_reply": "2023-05-11T09:27:43.699850Z"
    },
    "papermill": {
     "duration": 0.038127,
     "end_time": "2023-05-11T09:27:43.703244",
     "exception": false,
     "start_time": "2023-05-11T09:27:43.665117",
     "status": "completed"
    },
    "tags": []
   },
   "outputs": [
    {
     "data": {
      "text/html": [
       "<div>\n",
       "<style scoped>\n",
       "    .dataframe tbody tr th:only-of-type {\n",
       "        vertical-align: middle;\n",
       "    }\n",
       "\n",
       "    .dataframe tbody tr th {\n",
       "        vertical-align: top;\n",
       "    }\n",
       "\n",
       "    .dataframe thead th {\n",
       "        text-align: right;\n",
       "    }\n",
       "</style>\n",
       "<table border=\"1\" class=\"dataframe\">\n",
       "  <thead>\n",
       "    <tr style=\"text-align: right;\">\n",
       "      <th></th>\n",
       "      <th>Marketing Spend</th>\n",
       "      <th>Administration</th>\n",
       "      <th>Transport</th>\n",
       "      <th>Profit</th>\n",
       "      <th>Dhaka</th>\n",
       "      <th>Rangpur</th>\n",
       "    </tr>\n",
       "  </thead>\n",
       "  <tbody>\n",
       "    <tr>\n",
       "      <th>0</th>\n",
       "      <td>114523.61</td>\n",
       "      <td>136897.80</td>\n",
       "      <td>471784.10</td>\n",
       "      <td>192261.83</td>\n",
       "      <td>1</td>\n",
       "      <td>0</td>\n",
       "    </tr>\n",
       "    <tr>\n",
       "      <th>1</th>\n",
       "      <td>162597.70</td>\n",
       "      <td>151377.59</td>\n",
       "      <td>443898.53</td>\n",
       "      <td>191792.06</td>\n",
       "      <td>0</td>\n",
       "      <td>0</td>\n",
       "    </tr>\n",
       "    <tr>\n",
       "      <th>2</th>\n",
       "      <td>153441.51</td>\n",
       "      <td>101145.55</td>\n",
       "      <td>407934.54</td>\n",
       "      <td>191050.39</td>\n",
       "      <td>0</td>\n",
       "      <td>1</td>\n",
       "    </tr>\n",
       "    <tr>\n",
       "      <th>3</th>\n",
       "      <td>144372.41</td>\n",
       "      <td>118671.85</td>\n",
       "      <td>383199.62</td>\n",
       "      <td>182901.99</td>\n",
       "      <td>1</td>\n",
       "      <td>0</td>\n",
       "    </tr>\n",
       "    <tr>\n",
       "      <th>4</th>\n",
       "      <td>142107.34</td>\n",
       "      <td>91391.77</td>\n",
       "      <td>366168.42</td>\n",
       "      <td>166187.94</td>\n",
       "      <td>0</td>\n",
       "      <td>1</td>\n",
       "    </tr>\n",
       "  </tbody>\n",
       "</table>\n",
       "</div>"
      ],
      "text/plain": [
       "   Marketing Spend  Administration  Transport     Profit  Dhaka  Rangpur\n",
       "0        114523.61       136897.80  471784.10  192261.83      1        0\n",
       "1        162597.70       151377.59  443898.53  191792.06      0        0\n",
       "2        153441.51       101145.55  407934.54  191050.39      0        1\n",
       "3        144372.41       118671.85  383199.62  182901.99      1        0\n",
       "4        142107.34        91391.77  366168.42  166187.94      0        1"
      ]
     },
     "execution_count": 31,
     "metadata": {},
     "output_type": "execute_result"
    }
   ],
   "source": [
    "new_df.head()"
   ]
  },
  {
   "cell_type": "code",
   "execution_count": 32,
   "id": "7a4357c5",
   "metadata": {
    "execution": {
     "iopub.execute_input": "2023-05-11T09:27:43.740636Z",
     "iopub.status.busy": "2023-05-11T09:27:43.739988Z",
     "iopub.status.idle": "2023-05-11T09:27:43.760592Z",
     "shell.execute_reply": "2023-05-11T09:27:43.758982Z"
    },
    "papermill": {
     "duration": 0.042751,
     "end_time": "2023-05-11T09:27:43.763614",
     "exception": false,
     "start_time": "2023-05-11T09:27:43.720863",
     "status": "completed"
    },
    "tags": []
   },
   "outputs": [
    {
     "data": {
      "text/html": [
       "<div>\n",
       "<style scoped>\n",
       "    .dataframe tbody tr th:only-of-type {\n",
       "        vertical-align: middle;\n",
       "    }\n",
       "\n",
       "    .dataframe tbody tr th {\n",
       "        vertical-align: top;\n",
       "    }\n",
       "\n",
       "    .dataframe thead th {\n",
       "        text-align: right;\n",
       "    }\n",
       "</style>\n",
       "<table border=\"1\" class=\"dataframe\">\n",
       "  <thead>\n",
       "    <tr style=\"text-align: right;\">\n",
       "      <th></th>\n",
       "      <th>Marketing Spend</th>\n",
       "      <th>Administration</th>\n",
       "      <th>Transport</th>\n",
       "      <th>Profit</th>\n",
       "      <th>area_Dhaka</th>\n",
       "      <th>area_Rangpur</th>\n",
       "    </tr>\n",
       "  </thead>\n",
       "  <tbody>\n",
       "    <tr>\n",
       "      <th>0</th>\n",
       "      <td>114523.61</td>\n",
       "      <td>136897.80</td>\n",
       "      <td>471784.10</td>\n",
       "      <td>192261.83</td>\n",
       "      <td>1</td>\n",
       "      <td>0</td>\n",
       "    </tr>\n",
       "    <tr>\n",
       "      <th>1</th>\n",
       "      <td>162597.70</td>\n",
       "      <td>151377.59</td>\n",
       "      <td>443898.53</td>\n",
       "      <td>191792.06</td>\n",
       "      <td>0</td>\n",
       "      <td>0</td>\n",
       "    </tr>\n",
       "    <tr>\n",
       "      <th>2</th>\n",
       "      <td>153441.51</td>\n",
       "      <td>101145.55</td>\n",
       "      <td>407934.54</td>\n",
       "      <td>191050.39</td>\n",
       "      <td>0</td>\n",
       "      <td>1</td>\n",
       "    </tr>\n",
       "    <tr>\n",
       "      <th>3</th>\n",
       "      <td>144372.41</td>\n",
       "      <td>118671.85</td>\n",
       "      <td>383199.62</td>\n",
       "      <td>182901.99</td>\n",
       "      <td>1</td>\n",
       "      <td>0</td>\n",
       "    </tr>\n",
       "    <tr>\n",
       "      <th>4</th>\n",
       "      <td>142107.34</td>\n",
       "      <td>91391.77</td>\n",
       "      <td>366168.42</td>\n",
       "      <td>166187.94</td>\n",
       "      <td>0</td>\n",
       "      <td>1</td>\n",
       "    </tr>\n",
       "  </tbody>\n",
       "</table>\n",
       "</div>"
      ],
      "text/plain": [
       "   Marketing Spend  Administration  Transport     Profit  area_Dhaka  \\\n",
       "0        114523.61       136897.80  471784.10  192261.83           1   \n",
       "1        162597.70       151377.59  443898.53  191792.06           0   \n",
       "2        153441.51       101145.55  407934.54  191050.39           0   \n",
       "3        144372.41       118671.85  383199.62  182901.99           1   \n",
       "4        142107.34        91391.77  366168.42  166187.94           0   \n",
       "\n",
       "   area_Rangpur  \n",
       "0             0  \n",
       "1             0  \n",
       "2             1  \n",
       "3             0  \n",
       "4             1  "
      ]
     },
     "execution_count": 32,
     "metadata": {},
     "output_type": "execute_result"
    }
   ],
   "source": [
    "#loop\n",
    "for col in df6.columns:\n",
    "    if is_numeric_dtype(df6[col]):\n",
    "        continue\n",
    "    one=pd.get_dummies(df6[col],drop_first=True,prefix=\"area\")\n",
    "    df6.drop(df6[[col]],axis=1,inplace=True)\n",
    "    df6=pd.concat([df6,one],axis=1)\n",
    "df6.head()"
   ]
  },
  {
   "cell_type": "markdown",
   "id": "c29784a7",
   "metadata": {
    "papermill": {
     "duration": 0.017273,
     "end_time": "2023-05-11T09:27:43.798627",
     "exception": false,
     "start_time": "2023-05-11T09:27:43.781354",
     "status": "completed"
    },
    "tags": []
   },
   "source": [
    "## Ordinal Encoder"
   ]
  },
  {
   "cell_type": "code",
   "execution_count": 33,
   "id": "edd915fd",
   "metadata": {
    "execution": {
     "iopub.execute_input": "2023-05-11T09:27:43.836737Z",
     "iopub.status.busy": "2023-05-11T09:27:43.836298Z",
     "iopub.status.idle": "2023-05-11T09:27:43.851756Z",
     "shell.execute_reply": "2023-05-11T09:27:43.850525Z"
    },
    "papermill": {
     "duration": 0.038238,
     "end_time": "2023-05-11T09:27:43.854375",
     "exception": false,
     "start_time": "2023-05-11T09:27:43.816137",
     "status": "completed"
    },
    "tags": []
   },
   "outputs": [
    {
     "data": {
      "text/html": [
       "<div>\n",
       "<style scoped>\n",
       "    .dataframe tbody tr th:only-of-type {\n",
       "        vertical-align: middle;\n",
       "    }\n",
       "\n",
       "    .dataframe tbody tr th {\n",
       "        vertical-align: top;\n",
       "    }\n",
       "\n",
       "    .dataframe thead th {\n",
       "        text-align: right;\n",
       "    }\n",
       "</style>\n",
       "<table border=\"1\" class=\"dataframe\">\n",
       "  <thead>\n",
       "    <tr style=\"text-align: right;\">\n",
       "      <th></th>\n",
       "      <th>Marketing Spend</th>\n",
       "      <th>Administration</th>\n",
       "      <th>Transport</th>\n",
       "      <th>Area</th>\n",
       "      <th>Profit</th>\n",
       "    </tr>\n",
       "  </thead>\n",
       "  <tbody>\n",
       "    <tr>\n",
       "      <th>0</th>\n",
       "      <td>114523.61</td>\n",
       "      <td>136897.80</td>\n",
       "      <td>471784.10</td>\n",
       "      <td>Dhaka</td>\n",
       "      <td>192261.83</td>\n",
       "    </tr>\n",
       "    <tr>\n",
       "      <th>1</th>\n",
       "      <td>162597.70</td>\n",
       "      <td>151377.59</td>\n",
       "      <td>443898.53</td>\n",
       "      <td>Ctg</td>\n",
       "      <td>191792.06</td>\n",
       "    </tr>\n",
       "    <tr>\n",
       "      <th>2</th>\n",
       "      <td>153441.51</td>\n",
       "      <td>101145.55</td>\n",
       "      <td>407934.54</td>\n",
       "      <td>Rangpur</td>\n",
       "      <td>191050.39</td>\n",
       "    </tr>\n",
       "    <tr>\n",
       "      <th>3</th>\n",
       "      <td>144372.41</td>\n",
       "      <td>118671.85</td>\n",
       "      <td>383199.62</td>\n",
       "      <td>Dhaka</td>\n",
       "      <td>182901.99</td>\n",
       "    </tr>\n",
       "    <tr>\n",
       "      <th>4</th>\n",
       "      <td>142107.34</td>\n",
       "      <td>91391.77</td>\n",
       "      <td>366168.42</td>\n",
       "      <td>Rangpur</td>\n",
       "      <td>166187.94</td>\n",
       "    </tr>\n",
       "  </tbody>\n",
       "</table>\n",
       "</div>"
      ],
      "text/plain": [
       "   Marketing Spend  Administration  Transport     Area     Profit\n",
       "0        114523.61       136897.80  471784.10    Dhaka  192261.83\n",
       "1        162597.70       151377.59  443898.53      Ctg  191792.06\n",
       "2        153441.51       101145.55  407934.54  Rangpur  191050.39\n",
       "3        144372.41       118671.85  383199.62    Dhaka  182901.99\n",
       "4        142107.34        91391.77  366168.42  Rangpur  166187.94"
      ]
     },
     "execution_count": 33,
     "metadata": {},
     "output_type": "execute_result"
    }
   ],
   "source": [
    "df7.head()"
   ]
  },
  {
   "cell_type": "code",
   "execution_count": 34,
   "id": "cee9f205",
   "metadata": {
    "execution": {
     "iopub.execute_input": "2023-05-11T09:27:43.893626Z",
     "iopub.status.busy": "2023-05-11T09:27:43.893182Z",
     "iopub.status.idle": "2023-05-11T09:27:43.898545Z",
     "shell.execute_reply": "2023-05-11T09:27:43.896988Z"
    },
    "papermill": {
     "duration": 0.029217,
     "end_time": "2023-05-11T09:27:43.901603",
     "exception": false,
     "start_time": "2023-05-11T09:27:43.872386",
     "status": "completed"
    },
    "tags": []
   },
   "outputs": [],
   "source": [
    "from sklearn.preprocessing import OrdinalEncoder"
   ]
  },
  {
   "cell_type": "code",
   "execution_count": 35,
   "id": "3ebd1a0a",
   "metadata": {
    "execution": {
     "iopub.execute_input": "2023-05-11T09:27:43.944936Z",
     "iopub.status.busy": "2023-05-11T09:27:43.944494Z",
     "iopub.status.idle": "2023-05-11T09:27:43.953079Z",
     "shell.execute_reply": "2023-05-11T09:27:43.951361Z"
    },
    "papermill": {
     "duration": 0.032888,
     "end_time": "2023-05-11T09:27:43.955949",
     "exception": false,
     "start_time": "2023-05-11T09:27:43.923061",
     "status": "completed"
    },
    "tags": []
   },
   "outputs": [
    {
     "data": {
      "text/plain": [
       "[array(['Dhaka', 'Ctg', 'Rangpur'], dtype=object)]"
      ]
     },
     "execution_count": 35,
     "metadata": {},
     "output_type": "execute_result"
    }
   ],
   "source": [
    "city=[df7.Area.unique()]\n",
    "city"
   ]
  },
  {
   "cell_type": "code",
   "execution_count": 36,
   "id": "18893b53",
   "metadata": {
    "execution": {
     "iopub.execute_input": "2023-05-11T09:27:43.995184Z",
     "iopub.status.busy": "2023-05-11T09:27:43.994375Z",
     "iopub.status.idle": "2023-05-11T09:27:44.003053Z",
     "shell.execute_reply": "2023-05-11T09:27:44.002094Z"
    },
    "papermill": {
     "duration": 0.030632,
     "end_time": "2023-05-11T09:27:44.005610",
     "exception": false,
     "start_time": "2023-05-11T09:27:43.974978",
     "status": "completed"
    },
    "tags": []
   },
   "outputs": [],
   "source": [
    "#loop\n",
    "cols=[\"Area\"]\n",
    "for col in cols:\n",
    "    unique=df8[col].unique()\n",
    "    df8[col]=OrdinalEncoder(categories=[unique]).fit_transform(df8[[col]])"
   ]
  },
  {
   "cell_type": "code",
   "execution_count": 37,
   "id": "49e52a17",
   "metadata": {
    "execution": {
     "iopub.execute_input": "2023-05-11T09:27:44.043464Z",
     "iopub.status.busy": "2023-05-11T09:27:44.042706Z",
     "iopub.status.idle": "2023-05-11T09:27:44.057494Z",
     "shell.execute_reply": "2023-05-11T09:27:44.056390Z"
    },
    "papermill": {
     "duration": 0.036701,
     "end_time": "2023-05-11T09:27:44.060152",
     "exception": false,
     "start_time": "2023-05-11T09:27:44.023451",
     "status": "completed"
    },
    "tags": []
   },
   "outputs": [
    {
     "data": {
      "text/html": [
       "<div>\n",
       "<style scoped>\n",
       "    .dataframe tbody tr th:only-of-type {\n",
       "        vertical-align: middle;\n",
       "    }\n",
       "\n",
       "    .dataframe tbody tr th {\n",
       "        vertical-align: top;\n",
       "    }\n",
       "\n",
       "    .dataframe thead th {\n",
       "        text-align: right;\n",
       "    }\n",
       "</style>\n",
       "<table border=\"1\" class=\"dataframe\">\n",
       "  <thead>\n",
       "    <tr style=\"text-align: right;\">\n",
       "      <th></th>\n",
       "      <th>Marketing Spend</th>\n",
       "      <th>Administration</th>\n",
       "      <th>Transport</th>\n",
       "      <th>Area</th>\n",
       "      <th>Profit</th>\n",
       "    </tr>\n",
       "  </thead>\n",
       "  <tbody>\n",
       "    <tr>\n",
       "      <th>0</th>\n",
       "      <td>114523.61</td>\n",
       "      <td>136897.80</td>\n",
       "      <td>471784.10</td>\n",
       "      <td>0.0</td>\n",
       "      <td>192261.83</td>\n",
       "    </tr>\n",
       "    <tr>\n",
       "      <th>1</th>\n",
       "      <td>162597.70</td>\n",
       "      <td>151377.59</td>\n",
       "      <td>443898.53</td>\n",
       "      <td>1.0</td>\n",
       "      <td>191792.06</td>\n",
       "    </tr>\n",
       "    <tr>\n",
       "      <th>2</th>\n",
       "      <td>153441.51</td>\n",
       "      <td>101145.55</td>\n",
       "      <td>407934.54</td>\n",
       "      <td>2.0</td>\n",
       "      <td>191050.39</td>\n",
       "    </tr>\n",
       "    <tr>\n",
       "      <th>3</th>\n",
       "      <td>144372.41</td>\n",
       "      <td>118671.85</td>\n",
       "      <td>383199.62</td>\n",
       "      <td>0.0</td>\n",
       "      <td>182901.99</td>\n",
       "    </tr>\n",
       "    <tr>\n",
       "      <th>4</th>\n",
       "      <td>142107.34</td>\n",
       "      <td>91391.77</td>\n",
       "      <td>366168.42</td>\n",
       "      <td>2.0</td>\n",
       "      <td>166187.94</td>\n",
       "    </tr>\n",
       "  </tbody>\n",
       "</table>\n",
       "</div>"
      ],
      "text/plain": [
       "   Marketing Spend  Administration  Transport  Area     Profit\n",
       "0        114523.61       136897.80  471784.10   0.0  192261.83\n",
       "1        162597.70       151377.59  443898.53   1.0  191792.06\n",
       "2        153441.51       101145.55  407934.54   2.0  191050.39\n",
       "3        144372.41       118671.85  383199.62   0.0  182901.99\n",
       "4        142107.34        91391.77  366168.42   2.0  166187.94"
      ]
     },
     "execution_count": 37,
     "metadata": {},
     "output_type": "execute_result"
    }
   ],
   "source": [
    "df8.head()"
   ]
  },
  {
   "cell_type": "markdown",
   "id": "696387f3",
   "metadata": {
    "papermill": {
     "duration": 0.019075,
     "end_time": "2023-05-11T09:27:44.097620",
     "exception": false,
     "start_time": "2023-05-11T09:27:44.078545",
     "status": "completed"
    },
    "tags": []
   },
   "source": [
    "## Without using any technique"
   ]
  },
  {
   "cell_type": "code",
   "execution_count": 38,
   "id": "0cb71b8c",
   "metadata": {
    "execution": {
     "iopub.execute_input": "2023-05-11T09:27:44.137414Z",
     "iopub.status.busy": "2023-05-11T09:27:44.136986Z",
     "iopub.status.idle": "2023-05-11T09:27:44.151968Z",
     "shell.execute_reply": "2023-05-11T09:27:44.150929Z"
    },
    "papermill": {
     "duration": 0.037219,
     "end_time": "2023-05-11T09:27:44.154257",
     "exception": false,
     "start_time": "2023-05-11T09:27:44.117038",
     "status": "completed"
    },
    "tags": []
   },
   "outputs": [
    {
     "data": {
      "text/html": [
       "<div>\n",
       "<style scoped>\n",
       "    .dataframe tbody tr th:only-of-type {\n",
       "        vertical-align: middle;\n",
       "    }\n",
       "\n",
       "    .dataframe tbody tr th {\n",
       "        vertical-align: top;\n",
       "    }\n",
       "\n",
       "    .dataframe thead th {\n",
       "        text-align: right;\n",
       "    }\n",
       "</style>\n",
       "<table border=\"1\" class=\"dataframe\">\n",
       "  <thead>\n",
       "    <tr style=\"text-align: right;\">\n",
       "      <th></th>\n",
       "      <th>Marketing Spend</th>\n",
       "      <th>Administration</th>\n",
       "      <th>Transport</th>\n",
       "      <th>Area</th>\n",
       "      <th>Profit</th>\n",
       "    </tr>\n",
       "  </thead>\n",
       "  <tbody>\n",
       "    <tr>\n",
       "      <th>0</th>\n",
       "      <td>114523.61</td>\n",
       "      <td>136897.80</td>\n",
       "      <td>471784.10</td>\n",
       "      <td>Dhaka</td>\n",
       "      <td>192261.83</td>\n",
       "    </tr>\n",
       "    <tr>\n",
       "      <th>1</th>\n",
       "      <td>162597.70</td>\n",
       "      <td>151377.59</td>\n",
       "      <td>443898.53</td>\n",
       "      <td>Ctg</td>\n",
       "      <td>191792.06</td>\n",
       "    </tr>\n",
       "    <tr>\n",
       "      <th>2</th>\n",
       "      <td>153441.51</td>\n",
       "      <td>101145.55</td>\n",
       "      <td>407934.54</td>\n",
       "      <td>Rangpur</td>\n",
       "      <td>191050.39</td>\n",
       "    </tr>\n",
       "    <tr>\n",
       "      <th>3</th>\n",
       "      <td>144372.41</td>\n",
       "      <td>118671.85</td>\n",
       "      <td>383199.62</td>\n",
       "      <td>Dhaka</td>\n",
       "      <td>182901.99</td>\n",
       "    </tr>\n",
       "    <tr>\n",
       "      <th>4</th>\n",
       "      <td>142107.34</td>\n",
       "      <td>91391.77</td>\n",
       "      <td>366168.42</td>\n",
       "      <td>Rangpur</td>\n",
       "      <td>166187.94</td>\n",
       "    </tr>\n",
       "  </tbody>\n",
       "</table>\n",
       "</div>"
      ],
      "text/plain": [
       "   Marketing Spend  Administration  Transport     Area     Profit\n",
       "0        114523.61       136897.80  471784.10    Dhaka  192261.83\n",
       "1        162597.70       151377.59  443898.53      Ctg  191792.06\n",
       "2        153441.51       101145.55  407934.54  Rangpur  191050.39\n",
       "3        144372.41       118671.85  383199.62    Dhaka  182901.99\n",
       "4        142107.34        91391.77  366168.42  Rangpur  166187.94"
      ]
     },
     "execution_count": 38,
     "metadata": {},
     "output_type": "execute_result"
    }
   ],
   "source": [
    "df9.head()"
   ]
  },
  {
   "cell_type": "code",
   "execution_count": 39,
   "id": "16d57a27",
   "metadata": {
    "execution": {
     "iopub.execute_input": "2023-05-11T09:27:44.193126Z",
     "iopub.status.busy": "2023-05-11T09:27:44.192666Z",
     "iopub.status.idle": "2023-05-11T09:27:44.200572Z",
     "shell.execute_reply": "2023-05-11T09:27:44.199238Z"
    },
    "papermill": {
     "duration": 0.030322,
     "end_time": "2023-05-11T09:27:44.203075",
     "exception": false,
     "start_time": "2023-05-11T09:27:44.172753",
     "status": "completed"
    },
    "tags": []
   },
   "outputs": [
    {
     "data": {
      "text/plain": [
       "array(['Dhaka', 'Ctg', 'Rangpur'], dtype=object)"
      ]
     },
     "execution_count": 39,
     "metadata": {},
     "output_type": "execute_result"
    }
   ],
   "source": [
    "df9.Area.unique()"
   ]
  },
  {
   "cell_type": "code",
   "execution_count": 40,
   "id": "180d6d6f",
   "metadata": {
    "execution": {
     "iopub.execute_input": "2023-05-11T09:27:44.242199Z",
     "iopub.status.busy": "2023-05-11T09:27:44.241796Z",
     "iopub.status.idle": "2023-05-11T09:27:44.258371Z",
     "shell.execute_reply": "2023-05-11T09:27:44.257228Z"
    },
    "papermill": {
     "duration": 0.038965,
     "end_time": "2023-05-11T09:27:44.260762",
     "exception": false,
     "start_time": "2023-05-11T09:27:44.221797",
     "status": "completed"
    },
    "tags": []
   },
   "outputs": [
    {
     "data": {
      "text/html": [
       "<div>\n",
       "<style scoped>\n",
       "    .dataframe tbody tr th:only-of-type {\n",
       "        vertical-align: middle;\n",
       "    }\n",
       "\n",
       "    .dataframe tbody tr th {\n",
       "        vertical-align: top;\n",
       "    }\n",
       "\n",
       "    .dataframe thead th {\n",
       "        text-align: right;\n",
       "    }\n",
       "</style>\n",
       "<table border=\"1\" class=\"dataframe\">\n",
       "  <thead>\n",
       "    <tr style=\"text-align: right;\">\n",
       "      <th></th>\n",
       "      <th>Marketing Spend</th>\n",
       "      <th>Administration</th>\n",
       "      <th>Transport</th>\n",
       "      <th>Area</th>\n",
       "      <th>Profit</th>\n",
       "    </tr>\n",
       "  </thead>\n",
       "  <tbody>\n",
       "    <tr>\n",
       "      <th>0</th>\n",
       "      <td>114523.61</td>\n",
       "      <td>136897.80</td>\n",
       "      <td>471784.10</td>\n",
       "      <td>0</td>\n",
       "      <td>192261.83</td>\n",
       "    </tr>\n",
       "    <tr>\n",
       "      <th>1</th>\n",
       "      <td>162597.70</td>\n",
       "      <td>151377.59</td>\n",
       "      <td>443898.53</td>\n",
       "      <td>1</td>\n",
       "      <td>191792.06</td>\n",
       "    </tr>\n",
       "    <tr>\n",
       "      <th>2</th>\n",
       "      <td>153441.51</td>\n",
       "      <td>101145.55</td>\n",
       "      <td>407934.54</td>\n",
       "      <td>2</td>\n",
       "      <td>191050.39</td>\n",
       "    </tr>\n",
       "    <tr>\n",
       "      <th>3</th>\n",
       "      <td>144372.41</td>\n",
       "      <td>118671.85</td>\n",
       "      <td>383199.62</td>\n",
       "      <td>0</td>\n",
       "      <td>182901.99</td>\n",
       "    </tr>\n",
       "    <tr>\n",
       "      <th>4</th>\n",
       "      <td>142107.34</td>\n",
       "      <td>91391.77</td>\n",
       "      <td>366168.42</td>\n",
       "      <td>2</td>\n",
       "      <td>166187.94</td>\n",
       "    </tr>\n",
       "  </tbody>\n",
       "</table>\n",
       "</div>"
      ],
      "text/plain": [
       "   Marketing Spend  Administration  Transport  Area     Profit\n",
       "0        114523.61       136897.80  471784.10     0  192261.83\n",
       "1        162597.70       151377.59  443898.53     1  191792.06\n",
       "2        153441.51       101145.55  407934.54     2  191050.39\n",
       "3        144372.41       118671.85  383199.62     0  182901.99\n",
       "4        142107.34        91391.77  366168.42     2  166187.94"
      ]
     },
     "execution_count": 40,
     "metadata": {},
     "output_type": "execute_result"
    }
   ],
   "source": [
    "df9.Area = df9.Area.replace(['Dhaka', 'Ctg', 'Rangpur'],[0,1,2])\n",
    "df9.head()"
   ]
  }
 ],
 "metadata": {
  "kernelspec": {
   "display_name": "Python 3",
   "language": "python",
   "name": "python3"
  },
  "language_info": {
   "codemirror_mode": {
    "name": "ipython",
    "version": 3
   },
   "file_extension": ".py",
   "mimetype": "text/x-python",
   "name": "python",
   "nbconvert_exporter": "python",
   "pygments_lexer": "ipython3",
   "version": "3.10.10"
  },
  "papermill": {
   "default_parameters": {},
   "duration": 18.590571,
   "end_time": "2023-05-11T09:27:45.304262",
   "environment_variables": {},
   "exception": null,
   "input_path": "__notebook__.ipynb",
   "output_path": "__notebook__.ipynb",
   "parameters": {},
   "start_time": "2023-05-11T09:27:26.713691",
   "version": "2.4.0"
  }
 },
 "nbformat": 4,
 "nbformat_minor": 5
}
